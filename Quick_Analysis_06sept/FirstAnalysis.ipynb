{
 "cells": [
  {
   "cell_type": "code",
   "execution_count": null,
   "metadata": {},
   "outputs": [],
   "source": [
    "from astropy.table import Table\n",
    "import numpy as np\n",
    "from astropy.io import fits\n",
    "import matplotlib.pyplot as plt\n",
    "import aplpy\n",
    "import pyregion\n",
    "from astropy.coordinates import SkyCoord\n",
    "from sklearn import linear_model, datasets\n",
    "import scipy\n",
    "from astropy.table import Table\n",
    "from scipy.optimize import curve_fit\n",
    "from astropy.convolution import Gaussian2DKernel\n",
    "from astropy.convolution import convolve\n",
    "from scipy.integrate import trapz\n",
    "from scipy import signal\n",
    "import pandas as pd\n",
    "from glob import glob\n",
    "import os\n",
    "from astropy.io import ascii"
   ]
  },
  {
   "cell_type": "code",
   "execution_count": null,
   "metadata": {},
   "outputs": [],
   "source": [
    "all_stars = Table.read('../HST_Guido/30dor_all_newerr.UBVIHa.rot', format='ascii').to_pandas()\n"
   ]
  },
  {
   "cell_type": "code",
   "execution_count": null,
   "metadata": {},
   "outputs": [],
   "source": [
    "all_stars_excess = Table.read('../HST_Guido/30dormptcoo_coords.txt', format='ascii').to_pandas()\n",
    "#all_stars_excess.columns = 'ID;x;y;RA;Dec;u_1;eu_2;b_1;eb_2;v_1;ev_2;i_1;ei_2;ha_1;eha_2'.split(';')\n",
    "all_stars_excess.columns = ['X', 'Y']"
   ]
  },
  {
   "cell_type": "code",
   "execution_count": null,
   "metadata": {},
   "outputs": [],
   "source": [
    "SexTab_Ha = Table.read('Ha.cat', format=\"fits\", hdu='LDAC_OBJECTS')\n",
    "SexTab_V  = Table.read('V.cat', format=\"fits\", hdu='LDAC_OBJECTS')\n",
    "SexTab_I  = Table.read('I.cat', format=\"fits\", hdu='LDAC_OBJECTS')"
   ]
  },
  {
   "cell_type": "code",
   "execution_count": null,
   "metadata": {},
   "outputs": [],
   "source": [
    "SexTab_Ha = SexTab_Ha[(SexTab_Ha['MAG_AUTO']>-50)*(SexTab_Ha['MAG_AUTO']<50)]\n",
    "SexTab_I  = SexTab_I[(SexTab_I['MAG_AUTO']>-50)*(SexTab_I['MAG_AUTO']<50)]\n",
    "SexTab_V  = SexTab_V[(SexTab_V['MAG_AUTO']>-50)*(SexTab_V['MAG_AUTO']<50)]\n",
    "\n",
    "sexVmags  = SexTab_V['MAG_ISOCOR']  -0.1  + 25.81\n",
    "sexImags  = SexTab_I['MAG_ISOCOR']  -0.1  + 24.67\n",
    "sexHamags = SexTab_Ha['MAG_ISOCOR'] -0.1  + 19.92"
   ]
  },
  {
   "cell_type": "code",
   "execution_count": null,
   "metadata": {},
   "outputs": [],
   "source": [
    "phot_V  = ascii.read('V_filter.phot')\n",
    "phot_I  = ascii.read('I_filter.phot')\n",
    "phot_Ha = ascii.read('Ha_filter.phot')\n",
    "\n",
    "irafVmags  = phot_V['MAG']  -0.1 + 25.81\n",
    "irafImags  = phot_I['MAG']  -0.1 + 24.67\n",
    "irafHamags = phot_Ha['MAG'] -0.1 + 19.92"
   ]
  },
  {
   "cell_type": "code",
   "execution_count": null,
   "metadata": {},
   "outputs": [],
   "source": [
    "# Sextractor vs IRAF\n",
    "plt.figure(figsize=(8,6))\n",
    "plt.hist(all_stars.v_1, normed=True, bins=np.arange(15,28,0.5), histtype='step', linewidth=2, color='red', label='IRAF V')\n",
    "plt.hist(sexVmags, normed=True, bins=np.arange(15,28,0.5), histtype='step', linewidth=2, color='red', linestyle='dotted', label='SEX V')\n",
    "\n",
    "plt.hist(all_stars.i_1, normed=True, bins=np.arange(15,28,0.5), histtype='step',  color='blue',linewidth=2, label='IRAF I')\n",
    "plt.hist(sexImags, normed=True, bins=np.arange(15,28,0.5), histtype='step', linewidth=2, color='blue', linestyle='dotted', label='SEX I')\n",
    "\n",
    "plt.hist(all_stars.ha_1, normed=True, bins=np.arange(15,28,0.5), histtype='step', linewidth=2, color='green',label='IRAF Ha')\n",
    "plt.hist(sexHamags, normed=True, bins=np.arange(15,28,0.5), histtype='step', linewidth=2, color='green', linestyle='dotted', label='SEX Ha')\n",
    "\n",
    "#plt.hist(all_stars.v_1, bins=np.arange(17,28,0.5), normed=True)\n",
    "plt.legend(loc='best')\n",
    "plt.show()"
   ]
  },
  {
   "cell_type": "code",
   "execution_count": null,
   "metadata": {},
   "outputs": [],
   "source": [
    "# Ha excess stars\n",
    "phot_V_e  = ascii.read('V_filter_excess.phot')\n",
    "phot_I_e  = ascii.read('I_filter_excess.phot')\n",
    "phot_Ha_e = ascii.read('Ha_filter_excess.phot')\n",
    "\n",
    "irafVmags_e  = phot_V_e['MAG']  -0.1 + 25.81\n",
    "irafImags_e  = phot_I_e['MAG']  -0.1 + 24.67\n",
    "irafHamags_e = phot_Ha_e['MAG'] -0.1 + 19.92"
   ]
  },
  {
   "cell_type": "code",
   "execution_count": null,
   "metadata": {},
   "outputs": [],
   "source": [
    "# Lowest number of detections in Ha\n",
    "mag_keyword = 'MAG'\n",
    "for det in SexTab_Ha:\n",
    "    ra, dec = det['XPEAK_IMAGE'], det['YPEAK_IMAGE']\n",
    "    dI = np.sqrt(((ra-SexTab_I['XPEAK_IMAGE'])**2 +  (dec-SexTab_I['YPEAK_IMAGE'])**2))\n",
    "    dV = np.sqrt(((ra-SexTab_V['XPEAK_IMAGE'])**2 +  (dec-SexTab_V['YPEAK_IMAGE'])**2))\n",
    "    \n",
    "    Hamag = det[mag_keyword] + mzp_Ha\n",
    "    \n",
    "    minI, minV = np.argmin(dI), np.argmin(dV)\n",
    "    if (np.min(dI) < 12) * (np.min(dV)<12):\n",
    "        Vmag = SexTab_V[minV][mag_keyword] + mzp_V\n",
    "        Imag = SexTab_I[minI][mag_keyword] + mzp_I\n",
    "        plt.scatter(Vmag-Imag, Vmag-Hamag, c='black', s=1)\n",
    "#plt.xlim(-0.5,3)\n",
    "#plt.ylim(-2,5)\n",
    "plt.show()"
   ]
  },
  {
   "cell_type": "code",
   "execution_count": null,
   "metadata": {},
   "outputs": [],
   "source": [
    "# Lowest number of detections in Ha\n",
    "mag_keyword = 'MAG_APER'\n",
    "Vmags, VIcolors = [], []\n",
    "for det in SexTab_V:\n",
    "    ra, dec = det['XPEAK_IMAGE'], det['YPEAK_IMAGE']\n",
    "    dI = np.sqrt(((ra-SexTab_I['XPEAK_IMAGE'])**2 +  (dec-SexTab_I['YPEAK_IMAGE'])**2))\n",
    "    #dV = np.sqrt(((ra-SexTab_V['XPEAK_IMAGE'])**2 +  (dec-SexTab_V['YPEAK_IMAGE'])**2))\n",
    "    \n",
    "    minI = np.argmin(dI)\n",
    "    if (np.min(dI) < 2):\n",
    "        if det['MAGERR_APER'] + SexTab_I[minI]['MAGERR_APER'] < 0.07:\n",
    "            Vmag = det[mag_keyword]+mzp_V\n",
    "            Imag = SexTab_I[minI][mag_keyword] + mzp_I\n",
    "\n",
    "            Vmags.append(Vmag)\n",
    "            VIcolors.append(Vmag - Imag)\n",
    "        #plt.scatter(SexTab_V[minV]['MAG_AUTO']-SexTab_I[minI]['MAG_AUTO'], SexTab_V[minV]['MAG_AUTO']+21, c='black', s=1)\n",
    "#plt.xlim(-0.5,3)\n",
    "#plt.ylim(-2,5)\n",
    "#plt.show()"
   ]
  },
  {
   "cell_type": "code",
   "execution_count": null,
   "metadata": {},
   "outputs": [],
   "source": [
    "plt.scatter(VIcolors, Vmags, s=1)\n",
    "plt.xlim(-0.5,3.2)\n",
    "plt.ylim(30,10)"
   ]
  },
  {
   "cell_type": "code",
   "execution_count": null,
   "metadata": {},
   "outputs": [],
   "source": []
  },
  {
   "cell_type": "code",
   "execution_count": null,
   "metadata": {},
   "outputs": [],
   "source": []
  },
  {
   "cell_type": "code",
   "execution_count": null,
   "metadata": {},
   "outputs": [],
   "source": [
    "toplot = all_stars.ei_2 + all_stars.ev_2 <= 0.07\n",
    "plt.scatter((all_stars.v_1-all_stars.i_1)[toplot], all_stars.v_1[toplot], s=0.3, c='grey')\n",
    "plt.xlim(-0.5,3.2)\n",
    "plt.ylim(30,10)\n",
    "plt.show()"
   ]
  },
  {
   "cell_type": "code",
   "execution_count": null,
   "metadata": {},
   "outputs": [],
   "source": [
    "plt.hist(SexTab_I['MAG_APER']+mzp_I, bins=np.arange(-5,5,0.5)+mzp_I, normed=True)\n",
    "plt.hist(SexTab_V['MAG_APER']+mzp_V, bins=np.arange(-5,5,0.5)+mzp_V, normed=True)\n",
    "plt.hist(all_stars.v_1, bins=np.arange(17,28,0.5), normed=True)"
   ]
  },
  {
   "cell_type": "code",
   "execution_count": null,
   "metadata": {},
   "outputs": [],
   "source": [
    "all_stars[['x', 'y']].to_csv('all_stars_xy_coords_sex.coo', sep='\\t', index=True)"
   ]
  },
  {
   "cell_type": "code",
   "execution_count": null,
   "metadata": {},
   "outputs": [],
   "source": [
    "plt.figure(figsize=(8,6))\n",
    "plt.hist(irafVmags, normed=True, bins=np.arange(17,28,0.5), histtype='step', linewidth=2, color='red', label='Luuk V')\n",
    "plt.hist(all_stars.v_1, normed=True, bins=np.arange(17,28,0.5), histtype='step', linewidth=2, color='red', linestyle='dotted', label='Guido V')\n",
    "\n",
    "plt.hist(irafImags, normed=True, bins=np.arange(17,28,0.5), histtype='step',  color='blue',linewidth=2, label='Luuk I')\n",
    "plt.hist(all_stars.i_1, normed=True, bins=np.arange(17,28,0.5), histtype='step', linewidth=2, color='blue', linestyle='dotted', label='Guido I')\n",
    "\n",
    "plt.hist(irafHamags, normed=True, bins=np.arange(17,28,0.5), histtype='step', linewidth=2, color='green',label='Luuk Ha')\n",
    "plt.hist(all_stars.ha_1, normed=True, bins=np.arange(17,28,0.5), histtype='step', linewidth=2, color='green', linestyle='dotted', label='Guido Ha')\n",
    "\n",
    "#plt.hist(all_stars.v_1, bins=np.arange(17,28,0.5), normed=True)\n",
    "plt.legend(loc='best')\n",
    "plt.xlabel('Magnitude')\n",
    "plt.ylabel('Normalized denisity')\n",
    "plt.show()"
   ]
  },
  {
   "cell_type": "code",
   "execution_count": null,
   "metadata": {},
   "outputs": [],
   "source": [
    "plt.figure(figsize=(14,4))\n",
    "plt.subplot(131)\n",
    "plt.scatter(all_stars.i_1, irafImags, s=1)\n",
    "plt.plot(np.arange(14,28),np.arange(14,28), c='r')\n",
    "plt.xlim(12,28)\n",
    "plt.xlabel('Guido mags')\n",
    "plt.ylabel('Luuk mags')\n",
    "plt.title('I band')\n",
    "\n",
    "plt.subplot(132)\n",
    "plt.scatter(all_stars.v_1, irafVmags, s=1)\n",
    "plt.plot(np.arange(14,28),np.arange(14,28), c='r')\n",
    "plt.xlim(12,28)\n",
    "plt.xlabel('Guido mags')\n",
    "plt.ylabel('Luuk mags')\n",
    "plt.title('V band')\n",
    "\n",
    "plt.subplot(133)\n",
    "plt.scatter(all_stars.ha_1, irafHamags, s=1)\n",
    "plt.plot(np.arange(14,28),np.arange(14,28), c='r')\n",
    "plt.xlim(12,28)\n",
    "plt.xlabel('Guido mags')\n",
    "plt.ylabel('Luuk mags')\n",
    "plt.tight_layout()\n",
    "plt.title('Ha band')\n",
    "plt.show()"
   ]
  },
  {
   "cell_type": "code",
   "execution_count": null,
   "metadata": {},
   "outputs": [],
   "source": [
    "f = open('iraf_regions.reg', 'w')\n",
    "f.write(\n",
    "\"\"\"# Region file format: DS9 version 4.1\n",
    "global color=green dashlist=8 3 width=1 font=\"helvetica 10 normal roman\" select=1 highlite=1 dash=0 fixed=0 edit=1 move=1 delete=1 include=1 source=1\n",
    "image\\n\"\"\")"
   ]
  },
  {
   "cell_type": "code",
   "execution_count": null,
   "metadata": {},
   "outputs": [],
   "source": [
    "for i in range(len(phot_V)):\n",
    "    f.write('circle('+str(phot_V['XCENTER'][i]) + ',' + str(phot_V['YCENTER'][i])+',3)\\n')\n",
    "    f.write('circle('+str(phot_V['XCENTER'][i]) + ',' + str(phot_V['YCENTER'][i])+',4)\\n')\n",
    "    f.write('circle('+str(phot_V['XCENTER'][i]) + ',' + str(phot_V['YCENTER'][i])+',7)\\n')\n",
    "f.close()"
   ]
  },
  {
   "cell_type": "code",
   "execution_count": null,
   "metadata": {},
   "outputs": [],
   "source": [
    "plt.scatter((irafVmags-irafImags)[toplot], (irafVmags-irafHamags)[toplot], s=0.1, c='grey')\n",
    "plt.scatter((irafVmags_e-irafImags_e), (irafVmags_e-irafHamags_e), s=2, c='red')\n",
    "plt.xlim(-0.5, 3)\n",
    "plt.ylim(-0.5, 4.5)\n",
    "theoretic_model = np.array([0.1,0.1,0.8,0.6, 1.3, 1, 3,2.15]).reshape(4,2)\n",
    "plt.plot(theoretic_model[:,0], theoretic_model[:,1], linestyle='dotted', linewidth=4, c='black')"
   ]
  },
  {
   "cell_type": "code",
   "execution_count": null,
   "metadata": {},
   "outputs": [],
   "source": [
    "from astroquery.mast import Observations\n",
    "\n",
    "flist = glob('./Ha_var/ha*.fits')\n",
    "tstart_dict = {}\n",
    "for f in flist:\n",
    "    filename = f.split('/')[-1][:-5]\n",
    "    header = fits.open(f)[0].header\n",
    "    obsid = header['EXPNAME']\n",
    "    obs_table = Observations.query_criteria(obs_id=obsid)\n",
    "    t_start = obs_table['t_min'].data[0]\n",
    "    t_end = obs_table['t_max'].data[0]\n",
    "    tstart_dict[filename] = t_start"
   ]
  },
  {
   "cell_type": "code",
   "execution_count": null,
   "metadata": {},
   "outputs": [],
   "source": [
    "flist = glob('./Ha_var/*.phot')\n",
    "df = pd.DataFrame(np.zeros((0,16)))\n",
    "\n",
    "colnames = np.array(np.sort([w.split('/')[-1] for w in 2*flist]), dtype=str)\n",
    "for i, name in enumerate(colnames):\n",
    "    if i%2 == 1:\n",
    "        colnames[i] = (name[:-5])\n",
    "    if i%2 == 0:\n",
    "        colnames[i] = (name[:-5] + '.err')\n",
    "df.columns = colnames\n",
    "for file in flist:\n",
    "    var_phot_Ha = ascii.read(file)\n",
    "    var_irafHamags = var_phot_Ha['MAG'] -0.1 + 19.92\n",
    "    df[file.split('/')[-1][:-5]+'.err'] = var_phot_Ha['MERR']\n",
    "    df[file.split('/')[-1][:-5]] = var_irafHamags\n",
    "df[df==0] = np.nan\n",
    "df['std'] = np.nanstd(df[['ha'+str(w) for w in np.arange(1,9)]].values, axis=1)\n",
    "df['mean'] = np.nanmean(df[['ha'+str(w) for w in np.arange(1,9)]].values, axis=1)"
   ]
  },
  {
   "cell_type": "code",
   "execution_count": null,
   "metadata": {},
   "outputs": [],
   "source": [
    "plt.figure(figsize=(8,5))\n",
    "for i, row in df[(df['std']>0.5) * (df['mean']<19)* (df['mean']>15.5)].iterrows():\n",
    "    mags    = (row[['ha'+str(w) for w in np.arange(1,9)]].values)\n",
    "    magerrs = (row[['ha'+str(w)+'.err' for w in np.arange(1,9)]].values)\n",
    "    timestamps = [tstart_dict[w] for w in ['ha'+str(w) for w in np.arange(1,9)]]\n",
    "    timestamps -= np.min(timestamps)\n",
    "\n",
    "    order = np.argsort(timestamps)\n",
    "    timestamps = np.sort(timestamps)\n",
    "    mags, magerrs = mags[order], magerrs[order]\n",
    "    if np.max(magerrs) > 1:\n",
    "        continue\n",
    "    if np.sum(np.isnan(mags)) + np.sum(np.isnan(magerrs)) > 0:\n",
    "        continue\n",
    "    plt.errorbar(timestamps, mags, yerr=magerrs, c='black', linestyle='dotted')\n",
    "    plt.scatter(timestamps, mags, c='red', s=10)\n",
    "plt.ylabel('Ha magnitude')\n",
    "plt.xlabel(r'$\\Delta \\, T$ [days]')\n",
    "plt.show()   "
   ]
  },
  {
   "cell_type": "code",
   "execution_count": null,
   "metadata": {},
   "outputs": [],
   "source": []
  },
  {
   "cell_type": "code",
   "execution_count": null,
   "metadata": {},
   "outputs": [],
   "source": [
    "var_phot_Ha = ascii.read('./Ha_var/ha2.phot')"
   ]
  },
  {
   "cell_type": "code",
   "execution_count": null,
   "metadata": {},
   "outputs": [],
   "source": [
    "TEXP = 1\n",
    "flux = var_phot_Ha['FLUX']\n",
    "error = np.sqrt(TEXP * var_phot_Ha['FLUX'] / 1.56 + var_phot_Ha['AREA']*(0.6*TEXP)**2+var_phot_Ha['AREA']**2 * (0.6*TEXP)**2/var_phot_Ha['NSKY'])\n",
    "\n",
    "1.056 * error / flux"
   ]
  },
  {
   "cell_type": "code",
   "execution_count": null,
   "metadata": {},
   "outputs": [],
   "source": [
    "### MAG offset for 3 pixel radius aperture vs 100 pixel radius aperture ###\n",
    "### Esstimated for GD153 ####"
   ]
  },
  {
   "cell_type": "code",
   "execution_count": null,
   "metadata": {},
   "outputs": [],
   "source": [
    "flux03 = ascii.read('../PSF_star/Ha_03.phot')\n",
    "flux100 = var_phot_Ha = ascii.read('../PSF_star/Ha_100.phot')\n",
    "flux100['MAG'] - flux03['MAG']"
   ]
  },
  {
   "cell_type": "code",
   "execution_count": null,
   "metadata": {},
   "outputs": [],
   "source": [
    "flux03 = ascii.read('../PSF_star/V_03.phot')\n",
    "flux100 = var_phot_Ha = ascii.read('../PSF_star/V_100.phot')\n",
    "flux100['MAG'] - flux03['MAG']"
   ]
  },
  {
   "cell_type": "code",
   "execution_count": null,
   "metadata": {},
   "outputs": [],
   "source": [
    "flux03 = ascii.read('../PSF_star/I_03.phot')\n",
    "flux100 = var_phot_Ha = ascii.read('../PSF_star/I_100.phot')\n",
    "flux100['MAG'] - flux03['MAG']"
   ]
  },
  {
   "cell_type": "code",
   "execution_count": null,
   "metadata": {},
   "outputs": [],
   "source": [
    "phot_V1  = ascii.read('../IRAF_cats_drz/F555W/deep/drz_sci_0_astrometry_regrid.phot')['MAG']  -0.1 + 25.81\n",
    "phot_V2  = ascii.read('../IRAF_cats_drz/F555W/deep/drz_sci_1_astrometry_regrid.phot')['MAG']  -0.1 + 25.81\n",
    "phot_V3  = ascii.read('../IRAF_cats_drz/F555W/deep/drz_sci_2_astrometry_regrid.phot')['MAG']  -0.1 + 25.81\n",
    "phot_V4  = ascii.read('../IRAF_cats_drz/F555W/deep/drz_sci_3_astrometry_regrid.phot')['MAG']  -0.1 + 25.81"
   ]
  },
  {
   "cell_type": "code",
   "execution_count": null,
   "metadata": {},
   "outputs": [],
   "source": [
    "std_V  = np.std(np.vstack((phot_V1.data.data, phot_V2.data.data, phot_V3.data.data, phot_V4.data.data)), axis=0)\n",
    "mag_v  = np.median(np.vstack((phot_V1.data.data, phot_V2.data.data, phot_V3.data.data, phot_V4.data.data)), axis=0)\n",
    "to_use = (std_V<0.05)*mag_v>18\n",
    "toplot = (all_stars.ev_2 <= 0.05)*(all_stars.v_1>18)"
   ]
  },
  {
   "cell_type": "code",
   "execution_count": null,
   "metadata": {},
   "outputs": [],
   "source": [
    "phot_V1  = ascii.read('../Ha_PSF_photometry/ib6wd1rrq_flc_drz_sci_astrometry_regrid_exptime.phot')\n",
    "#to_usephot_V1['MAG']-0.1 + 19.92\n"
   ]
  },
  {
   "cell_type": "code",
   "execution_count": null,
   "metadata": {},
   "outputs": [],
   "source": [
    "plt.scatter(phot_V1['MAG']  -0.1 + 19.92, phot_V1['MERR'], s=1)\n",
    "plt.ylim(0,10)"
   ]
  },
  {
   "cell_type": "code",
   "execution_count": null,
   "metadata": {},
   "outputs": [],
   "source": []
  },
  {
   "cell_type": "code",
   "execution_count": null,
   "metadata": {},
   "outputs": [],
   "source": []
  }
 ],
 "metadata": {
  "kernelspec": {
   "display_name": "Python 3",
   "language": "python",
   "name": "python3"
  },
  "language_info": {
   "codemirror_mode": {
    "name": "ipython",
    "version": 3
   },
   "file_extension": ".py",
   "mimetype": "text/x-python",
   "name": "python",
   "nbconvert_exporter": "python",
   "pygments_lexer": "ipython3",
   "version": "3.7.4"
  }
 },
 "nbformat": 4,
 "nbformat_minor": 2
}