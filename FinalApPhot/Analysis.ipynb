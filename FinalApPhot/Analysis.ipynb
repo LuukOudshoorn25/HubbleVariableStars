{
 "cells": [
  {
   "cell_type": "code",
   "execution_count": null,
   "metadata": {},
   "outputs": [],
   "source": [
    "import pandas as pd\n",
    "%pylab inline\n",
    "import matplotlib.gridspec as gridspec\n"
   ]
  },
  {
   "cell_type": "code",
   "execution_count": null,
   "metadata": {},
   "outputs": [],
   "source": [
    "read_in = pd.read_csv('APP_phot_all_exps.csv')"
   ]
  },
  {
   "cell_type": "code",
   "execution_count": null,
   "metadata": {},
   "outputs": [],
   "source": [
    "try:\n",
    "    del phot_df\n",
    "except:\n",
    "    pass\n",
    "phot_df = read_in.copy().set_index(['ID', 'Filter', 'T_Start', 'Exp_Length', 'DrizzleType'])"
   ]
  },
  {
   "cell_type": "code",
   "execution_count": null,
   "metadata": {},
   "outputs": [],
   "source": [
    "#zmag  = {'F336W':23.46,'F438W':24.98,'F555W': 25.81, 'F814W': 24.67, 'F656N': 19.92}#[hst_filter]-0.1"
   ]
  },
  {
   "cell_type": "code",
   "execution_count": null,
   "metadata": {},
   "outputs": [],
   "source": [
    "#-2.5*np.log10(phot_df['FLUX']) + np.array([zmag[w] for w in phot_df.index.get_level_values(1).values])-0.1 +2.5*np.log10(phot_df['ITIME'])"
   ]
  },
  {
   "cell_type": "code",
   "execution_count": null,
   "metadata": {},
   "outputs": [],
   "source": [
    "# We select only the magnitudes from the single drizzled frames\n",
    "phot_df = phot_df[phot_df.index.get_level_values(4)=='SingleDrizzle']"
   ]
  },
  {
   "cell_type": "code",
   "execution_count": null,
   "metadata": {},
   "outputs": [],
   "source": [
    "# First look for stars without CRs in there\n",
    "phot_df = phot_df[phot_df.CERROR=='NoError']"
   ]
  },
  {
   "cell_type": "code",
   "execution_count": null,
   "metadata": {},
   "outputs": [],
   "source": [
    "# Only select stars with V band magnitudes between 15 and 20\n",
    "F555W_mags = phot_df['MAG']\n",
    "selection  = (F555W_mags < 22) * (F555W_mags > 16)\n",
    "phot_df    = phot_df[selection]"
   ]
  },
  {
   "cell_type": "code",
   "execution_count": null,
   "metadata": {},
   "outputs": [],
   "source": [
    "# Take only values with no large shift\n",
    "phot_df    = phot_df[phot_df.XSHIFT**2+phot_df.YSHIFT**2 < 3]"
   ]
  },
  {
   "cell_type": "code",
   "execution_count": null,
   "metadata": {},
   "outputs": [],
   "source": [
    "# Normalize observation time \n",
    "phot_df.loc[:,'Time'] = pd.to_numeric(phot_df.index.get_level_values(2))\n",
    "phot_df.loc[:,'Time'] = phot_df['Time'] - phot_df['Time'].min()"
   ]
  },
  {
   "cell_type": "code",
   "execution_count": null,
   "metadata": {},
   "outputs": [],
   "source": [
    "groupby    = phot_df.groupby(['ID', 'Filter', 'Exp_Length', 'DrizzleType'])['MAG'].std()"
   ]
  },
  {
   "cell_type": "code",
   "execution_count": null,
   "metadata": {
    "scrolled": true
   },
   "outputs": [],
   "source": [
    "# Select only stars with limited std in magnitudes\n",
    "groupby    = phot_df.groupby(['ID', 'Filter', 'Exp_Length', 'DrizzleType'])['MAG'].std()\n",
    "groupby    = groupby.groupby('ID').median()<0.3#groupby < 1.5\n",
    "good_stars = groupby.index[groupby]\n",
    "phot_df    = phot_df[[w in good_stars for w in phot_df.index.get_level_values(0)]]\n",
    "#phot_df    = phot_df[[w in good_stars for w in phot_df.index.get_level_values(1)]]\n",
    "#phot_df    = phot_df.droplevel([2,4]).loc[good_stars]"
   ]
  },
  {
   "cell_type": "code",
   "execution_count": null,
   "metadata": {},
   "outputs": [],
   "source": [
    "# Select only stars with limited mag error\n",
    "phot_df   = phot_df[phot_df['MERR']<0.1]"
   ]
  },
  {
   "cell_type": "code",
   "execution_count": null,
   "metadata": {},
   "outputs": [],
   "source": [
    "# Select some stars with enough remaining measurements\n",
    "groupby    = phot_df.reset_index(level=1).groupby('ID')['Filter'].nunique()>=5\n",
    "good_stars = groupby.index[groupby]\n",
    "phot_df    = phot_df[[w in good_stars for w in phot_df.index.get_level_values(0)]]\n",
    "\n",
    "groupby    = (phot_df.groupby('ID')['MAG'].nunique()>72)\n",
    "good_stars = groupby.index[groupby]\n",
    "phot_df    = phot_df[[w in good_stars for w in phot_df.index.get_level_values(0)]]"
   ]
  },
  {
   "cell_type": "code",
   "execution_count": null,
   "metadata": {},
   "outputs": [],
   "source": [
    "# Select those with std(Ha)> std(broadband)\n",
    "star_filter_std = phot_df.groupby(['ID', 'Filter'])['MAG'].std()\n",
    "Ha_std   = star_filter_std[star_filter_std.index.get_level_values(1)=='F656N']\n",
    "mean_std = star_filter_std.groupby('ID').mean()\n",
    "high_Ha_var_stars = mean_std.index[Ha_std.droplevel(1) > 1* mean_std].values"
   ]
  },
  {
   "cell_type": "code",
   "execution_count": null,
   "metadata": {},
   "outputs": [],
   "source": [
    "plt.figure(figsize=(18,16))\n",
    "gs1 = gridspec.GridSpec(3,3)\n",
    "gs1.update(wspace=0, hspace=0) # set the spacing between axes. \n",
    "Nstars_plot = 9\n",
    "filterlist = phot_df.index.get_level_values(1).unique()\n",
    "for nstar, starID in enumerate(np.random.choice(high_Ha_var_stars, Nstars_plot, replace=False)):\n",
    "    for filter_iter, filter_ in enumerate(filterlist):\n",
    "        plt.subplot(gs1[nstar])\n",
    "        data = phot_df.loc[starID, filter_]\n",
    "        data = data[['MAG', 'MERR', 'Time']].sort_values(by='Time')\n",
    "        mags = data['MAG']\n",
    "        mags = mags - np.max(mags) + filter_iter\n",
    "        merr = data['MERR']\n",
    "        time = data['Time']\n",
    "        plt.plot(time,mags, linewidth=1.2, label=filter_)\n",
    "        plt.scatter(time,mags, c='red', s=5, label='')\n",
    "        plt.errorbar(time, mags, yerr=merr, c='black', ls='none', label='')\n",
    "        plt.title('Star '+str(int(starID)), pad=-25, size=20)\n",
    "        plt.xlim(-1,8.3)\n",
    "        \n",
    "        #plt.ylim(15.,18.5)\n",
    "        if nstar not in [0,3,6]:\n",
    "            plt.yticks([])\n",
    "        else:\n",
    "            plt.ylabel('Shifted + normalized magnitude', size=16)\n",
    "            plt.yticks(size=14)\n",
    "        if nstar not in [6,7,8]:\n",
    "            plt.xticks([])\n",
    "        else:\n",
    "            plt.xticks(size=16)\n",
    "            plt.xlabel(r'$\\Delta \\, T$ [days]',size=16)\n",
    "\n",
    "plt.tight_layout()\n",
    "plt.legend(loc='upper center', bbox_to_anchor=(-0.5, -0.15),\n",
    "          fancybox=True, shadow=True, ncol=5, fontsize=16)\n",
    "plt.suptitle(r'Stellar H$\\alpha$ brightness variability in 30-dor', y=1.03,fontsize=25)\n",
    "plt.show()"
   ]
  },
  {
   "cell_type": "code",
   "execution_count": null,
   "metadata": {},
   "outputs": [],
   "source": []
  }
 ],
 "metadata": {
  "kernelspec": {
   "display_name": "Python 3",
   "language": "python",
   "name": "python3"
  },
  "language_info": {
   "codemirror_mode": {
    "name": "ipython",
    "version": 3
   },
   "file_extension": ".py",
   "mimetype": "text/x-python",
   "name": "python",
   "nbconvert_exporter": "python",
   "pygments_lexer": "ipython3",
   "version": "3.7.4"
  }
 },
 "nbformat": 4,
 "nbformat_minor": 2
}