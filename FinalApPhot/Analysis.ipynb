{
 "cells": [
  {
   "cell_type": "code",
   "execution_count": null,
   "metadata": {},
   "outputs": [],
   "source": [
    "import pandas as pd\n",
    "%pylab inline\n",
    "import matplotlib.gridspec as gridspec\n",
    "from astropy.io import ascii\n",
    "from astropy.table import Table"
   ]
  },
  {
   "cell_type": "code",
   "execution_count": null,
   "metadata": {},
   "outputs": [],
   "source": [
    "all_stars = Table.read('../HST_Guido/30dor_all_newerr.UBVIHa.rot', format='ascii').to_pandas()\n",
    "all_stars.columns = 'ID;x;y;RA;Dec;u_1;eu_2;b_1;eb_2;v_1;ev_2;i_1;ei_2;ha_1;eha_2'.split(';')\n",
    "all_stars = all_stars.set_index('ID')\n",
    "all_stars = all_stars[np.logical_not(((all_stars.ha_1<-10)+(all_stars.ha_1>50)))]"
   ]
  },
  {
   "cell_type": "code",
   "execution_count": null,
   "metadata": {},
   "outputs": [],
   "source": [
    "pms_stars = Table.read('../HST_Guido/30dorallpmsstars.txt', format='ascii').to_pandas()\n",
    "pms_stars = pms_stars.set_index('NR')"
   ]
  },
  {
   "cell_type": "code",
   "execution_count": null,
   "metadata": {},
   "outputs": [],
   "source": [
    "\"\"\"badpixphotometry = 'NBadpix_all_exps.csv'\n",
    "photometryfile = 'APP_phot_all_exps.csv'\n",
    "\n",
    "N_CR_app_df = pd.read_csv(badpixphotometry)\n",
    "N_CR_app_df = N_CR_app_df.set_index(['ID', 'Filter', 'T_Start', 'Exp_Length', 'DrizzleType'])\n",
    "N_CR_app_df['FracBadPix'] = N_CR_app_df['FLUX'] / N_CR_app_df['AREA']\n",
    "read_in = pd.read_csv(photometryfile)\n",
    "phot_df = read_in.copy().set_index(['ID', 'Filter', 'T_Start', 'Exp_Length', 'DrizzleType'])\n",
    "# Join the photometry with the fraction of bad pixels\n",
    "phot_df_all_stars = phot_df.join(N_CR_app_df.FracBadPix, how='inner')\"\"\""
   ]
  },
  {
   "cell_type": "code",
   "execution_count": null,
   "metadata": {},
   "outputs": [],
   "source": [
    "\"\"\"badpixphotometry = 'NBadpix_all_exps_pmsstars.csv'\n",
    "photometryfile = 'APP_phot_all_exps_pmsstars.csv'\n",
    "\n",
    "N_CR_app_df = pd.read_csv(badpixphotometry)\n",
    "N_CR_app_df = N_CR_app_df.set_index(['ID', 'Filter', 'T_Start', 'Exp_Length', 'DrizzleType'])\n",
    "N_CR_app_df['FracBadPix'] = N_CR_app_df['FLUX'] / N_CR_app_df['AREA']\n",
    "read_in = pd.read_csv(photometryfile)\n",
    "phot_df = read_in.copy().set_index(['ID', 'Filter', 'T_Start', 'Exp_Length', 'DrizzleType'])\n",
    "# Join the photometry with the fraction of bad pixels\n",
    "phot_df_pms_stars = phot_df.join(N_CR_app_df.FracBadPix, how='inner')\"\"\""
   ]
  },
  {
   "cell_type": "code",
   "execution_count": null,
   "metadata": {},
   "outputs": [],
   "source": [
    "\"\"\"# Red giants\n",
    "red_giant_coords = ascii.read('../HST_Guido/redgiants_coords.txt')\n",
    "phot_df_redgiants = phot_df_newmthod.loc[red_giant_coords['ID']]\"\"\""
   ]
  },
  {
   "cell_type": "markdown",
   "metadata": {},
   "source": [
    "<h3>FLT image photometry</h3>"
   ]
  },
  {
   "cell_type": "code",
   "execution_count": null,
   "metadata": {},
   "outputs": [],
   "source": [
    "# new method\n",
    "photometryfile = 'APP_phot_all_exps_fltnorecenter.csv'\n",
    "read_in = pd.read_csv(photometryfile)\n",
    "phot_df_flt_allstars_norecenter = read_in.copy().set_index(['ID', 'Filter', 'T_Start', 'Exp_Length', 'DrizzleType'])\n",
    "phot_df_flt_allstars_norecenter = phot_df_flt_allstars_norecenter[phot_df_flt_allstars_norecenter.AREA>0]\n",
    "phot_df_flt_allstars_norecenter = phot_df_flt_allstars_norecenter.loc[all_stars.index, :]"
   ]
  },
  {
   "cell_type": "code",
   "execution_count": null,
   "metadata": {},
   "outputs": [],
   "source": [
    "# new method\n",
    "photometryfile = 'APP_phot_pms_exps_fltnorecenter.csv'\n",
    "read_in = pd.read_csv(photometryfile)\n",
    "phot_df_flt_pmsstars_norecenter = read_in.copy().set_index(['ID', 'Filter', 'T_Start', 'Exp_Length', 'DrizzleType'])\n",
    "phot_df_flt_pmsstars_norecenter = phot_df_flt_pmsstars_norecenter[phot_df_flt_pmsstars_norecenter.AREA>0]\n",
    "phot_df_flt_pmsstars_norecenter = phot_df_flt_pmsstars_norecenter.loc[pms_stars.index, :].sort_index()"
   ]
  },
  {
   "cell_type": "code",
   "execution_count": null,
   "metadata": {},
   "outputs": [],
   "source": [
    "# new method\n",
    "photometryfile = 'APP_phot_pms_exps_fltnorecenter_coordwcs.csv'\n",
    "read_in = pd.read_csv(photometryfile)\n",
    "phot_df_flt_pmsstars_norecenter_coordwcs = read_in.copy().set_index(['ID', 'Filter', 'T_Start', 'Exp_Length', 'DrizzleType'])\n",
    "phot_df_flt_pmsstars_norecenter_coordwcs = phot_df_flt_pmsstars_norecenter_coordwcs[phot_df_flt_pmsstars_norecenter_coordwcs.AREA>0]\n",
    "phot_df_flt_pmsstars_norecenter_coordwcs = phot_df_flt_pmsstars_norecenter_coordwcs.loc[pms_stars.index, :].sort_index()"
   ]
  },
  {
   "cell_type": "markdown",
   "metadata": {},
   "source": [
    "<h3>Drizzle image photometry</h3>"
   ]
  },
  {
   "cell_type": "code",
   "execution_count": null,
   "metadata": {},
   "outputs": [],
   "source": [
    "# new method\n",
    "\"\"\"\n",
    "photometryfile = 'APP_phot_all_exps_pmsstars_newdriz.csv'\n",
    "read_in = pd.read_csv(photometryfile)\n",
    "photdf_pms_drz_squarekernel = read_in.copy().set_index(['ID', 'Filter', 'T_Start', 'Exp_Length', 'DrizzleType'])\n",
    "\n",
    "\n",
    "# new method\n",
    "photometryfile = 'APP_phot_all_exps_pmsstars_squarekernel.csv'\n",
    "read_in = pd.read_csv(photometryfile)\n",
    "photdf_pms_drz_squarekernel_norecenter = read_in.copy().set_index(['ID', 'Filter', 'T_Start', 'Exp_Length', 'DrizzleType'])\n",
    "\"\"\""
   ]
  },
  {
   "cell_type": "code",
   "execution_count": null,
   "metadata": {},
   "outputs": [],
   "source": [
    "#Xuniques = phot_df_pms_stars['XINIT'].unique()\n",
    "#Yuniques = phot_df_pms_stars['YINIT'].unique()\n",
    "Xall = ascii.read('../HST_Guido/30dor_all_newerr.UBVIHa.rot')['col1','col2'].to_pandas()\n",
    "Yall = ascii.read('../HST_Guido/30dor_all_newerr.UBVIHa.rot')['col1','col2'].to_pandas()"
   ]
  },
  {
   "cell_type": "code",
   "execution_count": null,
   "metadata": {},
   "outputs": [],
   "source": [
    "GuidoHaMags = pms_stars['Ha']\n",
    "LuukHaMags = phot_df_flt_pmsstars_norecenter_coordwcs[phot_df_flt_pmsstars_norecenter_coordwcs.index.get_level_values(1)=='F656N'].groupby(['ID'])['MAG'].median().loc[LuukHaMags.index]\n"
   ]
  },
  {
   "cell_type": "code",
   "execution_count": null,
   "metadata": {},
   "outputs": [],
   "source": [
    "plt.scatter(GuidoHaMags, LuukHaMags, s=1)\n",
    "plt.xlim(15,28)\n",
    "plt.ylim(15,25)\n",
    "plt.plot([14,26],[14,26], color='red')"
   ]
  },
  {
   "cell_type": "code",
   "execution_count": null,
   "metadata": {},
   "outputs": [],
   "source": [
    "def prepare_df(phot_df, CRcorrect=True):\n",
    "    # We select only the magnitudes from the single drizzled frames\n",
    "    phot_df = phot_df[phot_df.index.get_level_values(4)=='SingleDrizzle']\n",
    "    phot_df = phot_df[phot_df.index.get_level_values(3)=='deep']\n",
    "    # Only keep apertures with max 15% flagged pixels\n",
    "    if CRcorrect:\n",
    "        phot_df = phot_df[phot_df.FracBadPix < 0.6]\n",
    "        # Update the flux according to the number of bad pixels\n",
    "        phot_df['FluxCorr'] = phot_df['FLUX'] / (1-phot_df['FracBadPix'])\n",
    "        phot_df[phot_df['FluxCorr']!=phot_df['FLUX']]['CERROR'] = 'FixedBadPix'\n",
    "        # Update the magnitudes for the stars that did not have one\n",
    "        zmag  = {'F336W':23.46,'F438W':24.98,'F555W': 25.81, 'F814W': 24.67, 'F656N': 19.92}#[hst_filter]-0.1\n",
    "        phot_df_no_MAG = phot_df[phot_df.CERROR=='BadPixels']\n",
    "        phot_df['MAG'][phot_df.CERROR=='BadPixels'] = -2.5*np.log10(phot_df_no_MAG['FluxCorr']) + np.array([zmag[w] for w in phot_df_no_MAG.index.get_level_values(1).values])-0.1 +2.5*np.log10(phot_df_no_MAG['ITIME'])\n",
    "\n",
    "    if not CRcorrect:\n",
    "        phot_df = phot_df[phot_df.CERROR !='BadPixels']\n",
    "    phot_df = phot_df[phot_df.CERROR != 'BigShift']\n",
    "    \n",
    "    # Only select stars with V band magnitudes between 15 and 20\n",
    "    F656N      = phot_df[phot_df.index.get_level_values(1)=='F656N'].groupby(['ID'])['MAG'].median()\n",
    "    selection  = (F656N>14)*(F656N<28)\n",
    "    selection  = selection.index[selection].values\n",
    "    phot_df    = phot_df[[w in selection for w in phot_df.index.get_level_values(0)]]\n",
    "    #selection  = (F555W_mags < 18) * (F555W_mags > 15)\n",
    "    #phot_df    = phot_df[selection]\n",
    "    \n",
    "    # Take only values with no large shift\n",
    "    #phot_df    = phot_df[phot_df.XSHIFT**2+phot_df.YSHIFT**2 < 6]\n",
    "    \n",
    "    # Normalize observation time \n",
    "    phot_df.loc[:,'Time'] = pd.to_numeric(phot_df.index.get_level_values(2))\n",
    "    phot_df.loc[:,'Time'] = phot_df['Time'] - phot_df['Time'].min()\n",
    "    \n",
    "    # Select only stars with limited std in magnitudes for broad bands\n",
    "    maxmag     = phot_df[phot_df.index.get_level_values(1)!='F656N'].groupby(['ID', 'Filter', 'Exp_Length', 'DrizzleType'])['MAG'].max()\n",
    "    minmag     = phot_df[phot_df.index.get_level_values(1)!='F656N'].groupby(['ID', 'Filter', 'Exp_Length', 'DrizzleType'])['MAG'].min()\n",
    "    a = maxmag - minmag\n",
    "    # Ensure no strange things happen to the broad bands\n",
    "    a = ((a<0.1).groupby('ID').sum()>=4)\n",
    "    good_stars = a.index[a]\n",
    "    phot_df    = phot_df.loc[good_stars,:]\n",
    "\n",
    "    \n",
    "    # Select only stars with limited mag error\n",
    "    phot_df   = phot_df[phot_df['MERR']<0.2]\n",
    "    \n",
    "    # Select some stars with enough remaining measurements\n",
    "    #groupby    = phot_df.reset_index(level=1).groupby('ID')['Filter'].nunique()>=3\n",
    "    #good_stars = groupby.index[groupby]\n",
    "    #phot_df    = phot_df[[w in good_stars for w in phot_df.index.get_level_values(0)]]\n",
    "\n",
    "    groupby    = (phot_df.groupby('ID')['MAG'].nunique()>60)\n",
    "    good_stars = groupby.index[groupby]\n",
    "    phot_df    = phot_df[[w in good_stars for w in phot_df.index.get_level_values(0)]]\n",
    "    \n",
    "    \n",
    "    # Select some stars with enough remaining measurements in specifically Ha \n",
    "    groupby = phot_df.groupby(['ID', 'Filter'])['MAG'].nunique()\n",
    "    groupby = groupby.reset_index()\n",
    "    groupby = groupby[groupby.Filter=='F656N']\n",
    "    good_stars = groupby[groupby['MAG']>=6].ID.values\n",
    "    phot_df    = phot_df[[w in good_stars for w in phot_df.index.get_level_values(0)]]\n",
    "    return phot_df"
   ]
  },
  {
   "cell_type": "code",
   "execution_count": null,
   "metadata": {},
   "outputs": [],
   "source": [
    "def generate_plots(phot_df, high_var=False):\n",
    "    if high_var:\n",
    "        maxmag     = phot_df[phot_df.index.get_level_values(1)=='F656N'].groupby(['ID', 'Filter', 'Exp_Length', 'DrizzleType'])['MAG'].max()\n",
    "        minmag     = phot_df[phot_df.index.get_level_values(1)=='F656N'].groupby(['ID', 'Filter', 'Exp_Length', 'DrizzleType'])['MAG'].min()\n",
    "        medmag     = phot_df[phot_df.index.get_level_values(1)=='F656N'].groupby(['ID', 'Filter', 'Exp_Length', 'DrizzleType'])['MAG'].median()\n",
    "        a = medmag - minmag\n",
    "        Ha_err = phot_df[phot_df.index.get_level_values(1)=='F656N']['MERR'].groupby(['ID', 'Filter', 'Exp_Length', 'DrizzleType']).median()\n",
    "        a = (a>5*Ha_err).groupby('ID').sum() * (a<1.2).groupby('ID').sum() * (a>0.4).groupby('ID').sum()\n",
    "        good_stars = a.index[a]\n",
    "        phot_df    = phot_df.loc[good_stars,:]\n",
    "\n",
    "    stellar_indices = phot_df.index.get_level_values(0).unique().values\n",
    "    #high_Ha_var_stars\n",
    "    \n",
    "    \n",
    "    plt.figure(figsize=(18,16))\n",
    "    gs1 = gridspec.GridSpec(3,3)\n",
    "    gs1.update(wspace=0, hspace=0) # set the spacing between axes. \n",
    "    Nstars_plot = 9\n",
    "    filterlist = phot_df.index.get_level_values(1).unique() #skip F336W\n",
    "    print('Random sample from ', len(stellar_indices), ' stars remaining')\n",
    "    toplot = np.random.choice(stellar_indices, Nstars_plot, replace=False)\n",
    "    for nstar, starID in enumerate(toplot):\n",
    "        for filter_iter, filter_ in enumerate(filterlist):\n",
    "            plt.subplot(gs1[nstar])\n",
    "            data = phot_df.loc[starID, filter_]\n",
    "            data = data[['MAG', 'MERR', 'Time']].sort_values(by='Time')\n",
    "            mags = data['MAG']\n",
    "            mags = mags - np.median(mags) + filter_iter\n",
    "            merr = data['MERR']\n",
    "            time = data['Time']\n",
    "            plt.plot(time,mags, linewidth=1.2, label=filter_)\n",
    "            plt.scatter(time,mags, c='red', s=5, label='')\n",
    "            F656N_mag = str(np.round(np.median(data['MAG']), 1))\n",
    "            plt.errorbar(time, mags, yerr=merr, c='black', ls='none', label='')\n",
    "            plt.title('Star '+str(int(starID))+r'. $M_{Ha}=$'+F656N_mag, pad=-25, size=20)\n",
    "            plt.xlim(-1,8.3)\n",
    "\n",
    "            #plt.ylim(15.,18.5)\n",
    "            if nstar not in [0,3,6]:\n",
    "                plt.yticks([])\n",
    "            else:\n",
    "                plt.ylabel('Shifted magnitude', size=16)\n",
    "                plt.yticks(size=14)\n",
    "            if nstar not in [6,7,8]:\n",
    "                plt.xticks([])\n",
    "            else:\n",
    "                plt.xticks(size=16)\n",
    "                plt.xlabel(r'$\\Delta \\, T$ [days]',size=16)\n",
    "            plt.ylim(-0.3,len(filterlist)-0.3)\n",
    "    plt.tight_layout()\n",
    "    plt.legend(loc='upper center', bbox_to_anchor=(-0.5, -0.15),\n",
    "              fancybox=True, shadow=True, ncol=5, fontsize=16)\n",
    "    plt.suptitle(r'Stellar H$\\alpha$ brightness variability in 30-dor', y=1.03,fontsize=25)\n",
    "    #plt.savefig('output.png', dpi=200)\n",
    "    plt.show()"
   ]
  },
  {
   "cell_type": "code",
   "execution_count": null,
   "metadata": {},
   "outputs": [],
   "source": [
    "#cleaned_df_allstars_norecenter = prepare_df(phot_df_flt_allstars_norecenter, False)\n",
    "generate_plots(cleaned_df_allstars_norecenter, True)"
   ]
  },
  {
   "cell_type": "code",
   "execution_count": null,
   "metadata": {
    "scrolled": false
   },
   "outputs": [],
   "source": [
    "cleaned_df_pms_norecenter = prepare_df(phot_df_flt_pmsstars_norecenter_coordwcs, False)\n",
    "generate_plots(cleaned_df_pms_norecenter, True)"
   ]
  },
  {
   "cell_type": "code",
   "execution_count": null,
   "metadata": {
    "scrolled": false
   },
   "outputs": [],
   "source": [
    "# Trumpet plot\n",
    "from matplotlib.colors import LogNorm\n",
    "magnitudes = phot_df_flt_files_norecenter['MAG']\n",
    "magnitudes = magnitudes[magnitudes.index.get_level_values(3)=='deep']\n",
    "filters = magnitudes.index.get_level_values(1).unique()\n",
    "plt.figure(figsize=(20,10))\n",
    "num=0\n",
    "for filter_ in filters:\n",
    "    epochs  = magnitudes.loc[:,filter_,:].index.get_level_values(1).unique()\n",
    "    mags_t0 = pd.DataFrame(magnitudes.loc[:, filter_, epochs[0], :])\n",
    "    num+=1\n",
    "    plt.subplot('23'+str(num))\n",
    "    xs, ys = np.array([]), np.array([])\n",
    "    for i in range(len(epochs)-1):\n",
    "        mags_t1 = pd.DataFrame(magnitudes.loc[:, filter_, epochs[i+1], :])\n",
    "        join_mags = mags_t0.join(mags_t1, lsuffix = '_t0', rsuffix='_t1', how='inner')\n",
    "        join_mags['DeltaMag'] = join_mags['MAG_t1'] - join_mags['MAG_t0']\n",
    "        median_mags = magnitudes.loc[:, filter_, :].groupby(['ID', 'Exp_Length', 'DrizzleType']).median()\n",
    "        join_mags = join_mags.join(median_mags)\n",
    "        x, y = join_mags['MAG'].values, join_mags['DeltaMag'].values\n",
    "        x, y = x[np.isfinite(x)*np.isfinite(y)], y[np.isfinite(x)*np.isfinite(y)]\n",
    "        xs = np.hstack((xs,x))\n",
    "        ys = np.hstack((ys,y))\n",
    "    plt.hist2d(xs, ys, bins=(np.linspace(15,28,80), np.linspace(-3,3,150)), cmap='jet', cmin=15)\n",
    "    plt.title(filter_, pad=-15)\n",
    "    plt.ylabel('Delta Mag')\n",
    "    plt.xlabel('Median magnitude')\n",
    "    plt.ylim(-1,1)\n",
    "    plt.xlim(14,27)\n",
    "    if num in [1,4,7]:\n",
    "        plt.ylabel('Delta Mag')\n",
    "    else:\n",
    "        plt.yticks([])\n",
    "    if num in [4,5]:\n",
    "        plt.xlabel('Median magnitude')\n",
    "    else:\n",
    "        plt.xticks([])\n",
    "    plt.ylim(-1.5,1.5)\n",
    "plt.tight_layout()\n",
    "plt.savefig('trumpet_diagrams.png', dpi=500)\n",
    "plt.show()"
   ]
  },
  {
   "cell_type": "code",
   "execution_count": null,
   "metadata": {},
   "outputs": [],
   "source": [
    "mask = (phot_df_flt_files_norecenter.index.get_level_values(1)=='F656N')*(phot_df_flt_files_norecenter['MAG']>16)*(phot_df_flt_files_norecenter['MAG']<25)*(np.isfinite(phot_df_flt_files_norecenter['MAG'].values))*(np.isfinite(phot_df_flt_files_norecenter['MERR'].values))\n",
    "plt.hist2d(phot_df_flt_files_norecenter[mask]['MAG'].values, phot_df_flt_files_norecenter[mask]['MERR'].values, bins=(np.linspace(15,25,150),np.linspace(0,3,30)), cmap='jet', cmin=5)\n",
    "plt.xlabel('Ha MAG')\n",
    "plt.ylabel('Ha MAG Err')\n",
    "plt.xlim(16,25)\n",
    "plt.ylim(0,3)\n",
    "plt.show()"
   ]
  },
  {
   "cell_type": "code",
   "execution_count": null,
   "metadata": {},
   "outputs": [],
   "source": [
    "LuukHaMags = phot_df_flt_allstars_norecenter[phot_df_flt_allstars_norecenter.index.get_level_values(1)=='F656N'].groupby(['ID'])['MAG'].median()\n",
    "GuidoHaMags = all_stars['ha_1'].loc[LuukHaMags.index.get_level_values(0)]"
   ]
  },
  {
   "cell_type": "code",
   "execution_count": null,
   "metadata": {},
   "outputs": [],
   "source": [
    "plt.hist2d(GuidoHaMags,GuidoHaMags -  LuukHaMags,bins=(np.linspace(15,28,50),np.linspace(-1,5,50)), cmap='jet', cmin=3)\n",
    "plt.xlabel('Guido magnitude')\n",
    "plt.ylabel('Magnitude difference Guido and FLT images')\n",
    "plt.show()"
   ]
  },
  {
   "cell_type": "code",
   "execution_count": null,
   "metadata": {},
   "outputs": [],
   "source": [
    "plt.hist(GuidoHaMags -  LuukHaMags, bins=np.arange(-3,3,0.1))\n",
    "plt.xlabel('Magnitude difference Guido and median from FLT images')\n",
    "plt.show()"
   ]
  },
  {
   "cell_type": "code",
   "execution_count": null,
   "metadata": {},
   "outputs": [],
   "source": [
    "plt.hist2d(GuidoHaMags, LuukHaMags, bins=(np.linspace(16,28,68),np.linspace(16,28,68)), cmap='jet', cmin=5)\n",
    "plt.xlim(15,28)\n",
    "plt.ylim(15,25)\n",
    "plt.plot([14,26],[14,26], color='red')"
   ]
  },
  {
   "cell_type": "code",
   "execution_count": null,
   "metadata": {},
   "outputs": [],
   "source": [
    "plt.figure(figsize=(8,8))\n",
    "plt.subplot(221)\n",
    "plt.hist2d(all_stars['ha_1'].values, all_stars['eha_2'].values, bins=(np.linspace(15,28,50),np.linspace(0,1,50)), cmap='jet', cmin=5)\n",
    "plt.xlim(15,28)\n",
    "plt.xlabel('Guido Ha magnitudes')\n",
    "plt.ylabel('Guido Ha Errors')\n",
    "plt.ylim(0,1)\n",
    "\n",
    "plt.subplot(222)\n",
    "plt.hist2d(phot_df_flt_files_norecenter[phot_df_flt_files_norecenter.index.get_level_values(1)=='F656N']['MAG'],phot_df_flt_files_norecenter[phot_df_flt_files_norecenter.index.get_level_values(1)=='F656N']['MERR'], bins=(np.linspace(15,28,50),np.linspace(0,1,50)), cmap='jet', cmin=5)\n",
    "plt.xlim(15,28)\n",
    "plt.xlabel('Ha band magnitudes')\n",
    "plt.ylabel('Ha band Errors')\n",
    "plt.ylim(0,1)\n",
    "\n",
    "\n",
    "\n",
    "\n",
    "plt.subplot(223)\n",
    "plt.hist2d(all_stars['v_1'].values, all_stars['ev_2'].values, bins=(np.linspace(15,28,50),np.linspace(0,1,50)), cmap='jet', cmin=5)\n",
    "plt.xlim(15,28)\n",
    "plt.xlabel('Guido magnitudes')\n",
    "plt.ylabel('Guido Errors')\n",
    "plt.ylim(0,1)\n",
    "\n",
    "plt.subplot(224)\n",
    "plt.hist2d(phot_df_flt_files_norecenter[phot_df_flt_files_norecenter.index.get_level_values(1)=='F555W']['MAG'],phot_df_flt_files_norecenter[phot_df_flt_files_norecenter.index.get_level_values(1)=='F555W']['MERR'], bins=(np.linspace(15,28,50),np.linspace(0,1,50)), cmap='jet', cmin=5)\n",
    "plt.xlim(15,28)\n",
    "plt.xlabel('V band magnitudes')\n",
    "plt.ylabel('V band Errors')\n",
    "plt.ylim(0,1)\n",
    "plt.tight_layout()\n",
    "plt.show()"
   ]
  },
  {
   "cell_type": "code",
   "execution_count": null,
   "metadata": {},
   "outputs": [],
   "source": [
    "plt.hist2d(np.nan_to_num(phot_df_flt_files_norecenter[(phot_df_flt_files_norecenter.index.get_level_values(1)=='F656N')*(phot_df_flt_files_norecenter.index.get_level_values(3)=='deep')].groupby(['ID', 'Filter'])['MAG'].median()), np.nan_to_num(phot_df_flt_files_norecenter[(phot_df_flt_files_norecenter.index.get_level_values(1)=='F656N')*(phot_df_flt_files_norecenter.index.get_level_values(3)=='deep')].groupby(['ID', 'Filter'])['MAG'].std()), bins=(np.linspace(15,28,50),np.linspace(0,4,80)), cmap='jet', norm = LogNorm(), cmin=5)\n",
    "plt.xlabel('FLT magnitude')\n",
    "plt.ylabel('Standard in Ha filter')\n",
    "plt.xlim(15,28)"
   ]
  },
  {
   "cell_type": "code",
   "execution_count": null,
   "metadata": {},
   "outputs": [],
   "source": [
    "plt.hist(np.nan_to_num(phot_df_flt_files_norecenter[(phot_df_flt_files_norecenter.index.get_level_values(1)=='F656N')*(phot_df_flt_files_norecenter.index.get_level_values(3)=='deep')].groupby(['ID', 'Filter'])['MAG'].std()), bins=np.arange(0,3,0.04))\n",
    "plt.show()"
   ]
  },
  {
   "cell_type": "code",
   "execution_count": null,
   "metadata": {},
   "outputs": [],
   "source": [
    "phot_df_flt_files_norecenter['AREA'].hist()"
   ]
  },
  {
   "cell_type": "code",
   "execution_count": null,
   "metadata": {},
   "outputs": [],
   "source": [
    "fig, ax = plt.subplots(figsize=(10,6))\n",
    "for name, group in phot_df_flt_files_norecenter[phot_df_flt_files_norecenter.FLUX>0].groupby('Filter')['MERR']:\n",
    "    group.hist(bins=np.arange(0,3,0.05), histtype='step', ax=ax, normed=True, label=name, linewidth=2)\n",
    "ax.legend()\n",
    "ax.set_xlabel('Magnitude Error')\n",
    "ax.set_ylabel('Normalized frequency')\n",
    "ax.set_xlim(0,1.5)"
   ]
  },
  {
   "cell_type": "code",
   "execution_count": null,
   "metadata": {},
   "outputs": [],
   "source": [
    "fig, ax = plt.subplots(figsize=(10,6))\n",
    "for name, group in phot_df_flt_files_norecenter[phot_df_flt_files_norecenter.FLUX>0].groupby('Filter')['FLUX']:\n",
    "    group.hist(bins=np.logspace(0,4,200),cumulative=True, histtype='step', ax=ax, normed=True, label=name, linewidth=2)\n",
    "ax.legend()\n",
    "ax.set_xlabel('Flux')\n",
    "ax.set_ylabel('Normalized frequency')\n",
    "#ax.semilogx()\n",
    "ax.set_xlim(0,10000)\n",
    "plt.show()\n",
    "\n",
    "fig, ax = plt.subplots(figsize=(10,6))\n",
    "for name, group in phot_df_flt_files_norecenter[phot_df_flt_files_norecenter.FLUX>0].groupby('Filter')['FLUX']:\n",
    "    group.hist(bins=np.logspace(0,4,100), histtype='step', ax=ax, normed=True, label=name, linewidth=2)\n",
    "ax.legend()\n",
    "ax.set_xlabel('Flux')\n",
    "ax.set_ylabel('Normalized frequency')\n",
    "#ax.semilogx()\n",
    "ax.set_xlim(0,2000)\n",
    "plt.show()"
   ]
  },
  {
   "cell_type": "code",
   "execution_count": null,
   "metadata": {},
   "outputs": [],
   "source": [
    "fig, ax = plt.subplots(figsize=(10,6))\n",
    "for name, group in phot_df_flt_files_norecenter[phot_df_flt_files_norecenter.FLUX>0].groupby('Filter')['MAG']:\n",
    "    group.hist(bins=np.arange(15,28,0.1), histtype='step', ax=ax, normed=True, label=name, linewidth=2)\n",
    "ax.legend()\n",
    "ax.set_xlabel('Magnitude')\n",
    "ax.set_ylabel('Normalized frequency')\n",
    "ax.set_xlim(15,28)\n",
    "plt.show()\n",
    "\n",
    "\n",
    "fig, ax = plt.subplots(figsize=(10,6))\n",
    "for name, group in phot_df_flt_files_norecenter[phot_df_flt_files_norecenter.FLUX>0].groupby('Filter')['MAG']:\n",
    "    group.hist(bins=np.arange(15,28,0.1),cumulative=True, histtype='step', ax=ax, normed=True, label=name, linewidth=2)\n",
    "ax.legend()\n",
    "ax.set_xlabel('Magnitude')\n",
    "ax.set_ylabel('Normalized frequency')\n",
    "ax.set_xlim(15,28)\n",
    "plt.show()"
   ]
  },
  {
   "cell_type": "code",
   "execution_count": null,
   "metadata": {},
   "outputs": [],
   "source": [
    "for filt in phot_df_flt_files_norecenter.index.get_level_values(1).unique():\n",
    "    data = phot_df_flt_files_norecenter[phot_df_flt_files_norecenter.index.get_level_values(1)==filt].sample(40000)\n",
    "    plt.scatter(data['FLUX'], data['MERR'],s=1, label=filt)\n",
    "plt.legend(loc='best')\n",
    "plt.ylim(0,2)\n",
    "#Zplt.xlim(0,5)\n",
    "plt.semilogx()"
   ]
  },
  {
   "cell_type": "code",
   "execution_count": null,
   "metadata": {},
   "outputs": [],
   "source": [
    "LuukMags = phot_df_flt_files_norecenter.groupby('ID')['MAG'].median()\n",
    "LuukMerrs = phot_df_flt_files_norecenter.groupby('ID')['MERR'].median()\n",
    "\n",
    "GuidoMags = np.hstack((all_stars.ha_1, all_stars.v_1, all_stars.i_1))\n",
    "GuidoMerrs = np.hstack((all_stars.eha_2, all_stars.ev_2, all_stars.ei_2))\n",
    "plt.figure(figsize=(10,4))\n",
    "plt.subplot(121)\n",
    "plt.hist(LuukMerrs, bins=np.arange(0,1,0.02), histtype='step', normed=True, label='FLT')\n",
    "plt.hist(GuidoMerrs, bins=np.arange(0,1,0.02), histtype='step', normed=True, label='Guido')\n",
    "plt.legend()\n",
    "plt.xlabel('Mag Err')\n",
    "plt.title('All bands magnitude errors')\n",
    "plt.subplot(122)\n",
    "\n",
    "\n",
    "LuukMags = phot_df_flt_files_norecenter[phot_df_flt_files_norecenter.index.get_level_values(1)=='F656N'].groupby('ID')['MAG'].median()\n",
    "LuukMerrs = phot_df_flt_files_norecenter[phot_df_flt_files_norecenter.index.get_level_values(1)=='F656N'].groupby('ID')['MERR'].median()\n",
    "\n",
    "GuidoMags = all_stars.ha_1\n",
    "GuidoMerrs = all_stars.eha_2\n",
    "plt.title('Ha magnitude errors')\n",
    "plt.hist(LuukMerrs, bins=np.arange(0,1,0.02), histtype='step', normed=True, label='FLT')\n",
    "plt.hist(GuidoMerrs, bins=np.arange(0,1,0.02), histtype='step', normed=True, label='Guido')\n",
    "plt.legend()\n",
    "plt.xlabel('Mag Err')\n",
    "plt.show()"
   ]
  },
  {
   "cell_type": "code",
   "execution_count": null,
   "metadata": {},
   "outputs": [],
   "source": []
  }
 ],
 "metadata": {
  "kernelspec": {
   "display_name": "Python 3",
   "language": "python",
   "name": "python3"
  },
  "language_info": {
   "codemirror_mode": {
    "name": "ipython",
    "version": 3
   },
   "file_extension": ".py",
   "mimetype": "text/x-python",
   "name": "python",
   "nbconvert_exporter": "python",
   "pygments_lexer": "ipython3",
   "version": "3.7.4"
  }
 },
 "nbformat": 4,
 "nbformat_minor": 2
}